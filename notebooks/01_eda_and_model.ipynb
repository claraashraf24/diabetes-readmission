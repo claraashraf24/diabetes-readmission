{
 "cells": [
  {
   "cell_type": "code",
   "execution_count": 2,
   "id": "27aa83e0",
   "metadata": {},
   "outputs": [],
   "source": [
    "#Diabetes Readmission Risk Analysis\n",
    "#**Dataset:** [Kaggle – Diabetes 130-US hospitals (1999–2008)](https://www.kaggle.com/datasets/brandao/diabetes)  \n",
    "#**Paper:** *Impact of HbA1c Measurement on Hospital Readmission Rates: Analysis of 70,000 Clinical Database Patient Records*  \n",
    "\n",
    "#**Goal:** Predict 30-day readmission and analyze factors affecting risk.\n",
    "#**Tools:** pandas · NumPy · matplotlib · scikit-learn  \n",
    "\n",
    "#**Author:** Clara Yousif\n",
    "#**Date:** 2025-10-21\n",
    "#**Note:** This is for practicing"
   ]
  },
  {
   "cell_type": "code",
   "execution_count": null,
   "id": "65eb0376",
   "metadata": {},
   "outputs": [],
   "source": [
    "#IMPORT LIBRARIES\n",
    "import pandas as pd\n",
    "import numpy as np\n",
    "import matplotlib.pyplot as plt\n",
    "import seaborn as sns\n",
    "pd.set_option('display.max_columns', 200)\n",
    "\n",
    "#NOTE: if you got errors in this part then u need to run !pip install pandas numpy matplotlib seaborn scikit-learn\n"
   ]
  },
  {
   "cell_type": "code",
   "execution_count": 4,
   "id": "61ea0bdb",
   "metadata": {},
   "outputs": [
    {
     "data": {
      "text/plain": [
       "((101766, 50),\n",
       "    encounter_id  patient_nbr             race  gender      age weight  \\\n",
       " 0       2278392      8222157        Caucasian  Female   [0-10)      ?   \n",
       " 1        149190     55629189        Caucasian  Female  [10-20)      ?   \n",
       " 2         64410     86047875  AfricanAmerican  Female  [20-30)      ?   \n",
       " \n",
       "    admission_type_id  discharge_disposition_id  admission_source_id  \\\n",
       " 0                  6                        25                    1   \n",
       " 1                  1                         1                    7   \n",
       " 2                  1                         1                    7   \n",
       " \n",
       "    time_in_hospital payer_code         medical_specialty  num_lab_procedures  \\\n",
       " 0                 1          ?  Pediatrics-Endocrinology                  41   \n",
       " 1                 3          ?                         ?                  59   \n",
       " 2                 2          ?                         ?                  11   \n",
       " \n",
       "    num_procedures  num_medications  number_outpatient  number_emergency  \\\n",
       " 0               0                1                  0                 0   \n",
       " 1               0               18                  0                 0   \n",
       " 2               5               13                  2                 0   \n",
       " \n",
       "    number_inpatient  diag_1  diag_2 diag_3  number_diagnoses max_glu_serum  \\\n",
       " 0                 0  250.83       ?      ?                 1          None   \n",
       " 1                 0     276  250.01    255                 9          None   \n",
       " 2                 1     648     250    V27                 6          None   \n",
       " \n",
       "   A1Cresult metformin repaglinide nateglinide chlorpropamide glimepiride  \\\n",
       " 0      None        No          No          No             No          No   \n",
       " 1      None        No          No          No             No          No   \n",
       " 2      None        No          No          No             No          No   \n",
       " \n",
       "   acetohexamide glipizide glyburide tolbutamide pioglitazone rosiglitazone  \\\n",
       " 0            No        No        No          No           No            No   \n",
       " 1            No        No        No          No           No            No   \n",
       " 2            No    Steady        No          No           No            No   \n",
       " \n",
       "   acarbose miglitol troglitazone tolazamide examide citoglipton insulin  \\\n",
       " 0       No       No           No         No      No          No      No   \n",
       " 1       No       No           No         No      No          No      Up   \n",
       " 2       No       No           No         No      No          No      No   \n",
       " \n",
       "   glyburide-metformin glipizide-metformin glimepiride-pioglitazone  \\\n",
       " 0                  No                  No                       No   \n",
       " 1                  No                  No                       No   \n",
       " 2                  No                  No                       No   \n",
       " \n",
       "   metformin-rosiglitazone metformin-pioglitazone change diabetesMed readmitted  \n",
       " 0                      No                     No     No          No         NO  \n",
       " 1                      No                     No     Ch         Yes        >30  \n",
       " 2                      No                     No     No         Yes         NO  )"
      ]
     },
     "execution_count": 4,
     "metadata": {},
     "output_type": "execute_result"
    }
   ],
   "source": [
    "df = pd.read_csv('../data/diabetic_data.csv')\n",
    "df.shape, df.head(3)"
   ]
  },
  {
   "cell_type": "code",
   "execution_count": 5,
   "id": "d59cfa8b",
   "metadata": {},
   "outputs": [
    {
     "name": "stdout",
     "output_type": "stream",
     "text": [
      "<class 'pandas.core.frame.DataFrame'>\n",
      "RangeIndex: 101766 entries, 0 to 101765\n",
      "Data columns (total 50 columns):\n",
      " #   Column                    Non-Null Count   Dtype \n",
      "---  ------                    --------------   ----- \n",
      " 0   encounter_id              101766 non-null  int64 \n",
      " 1   patient_nbr               101766 non-null  int64 \n",
      " 2   race                      101766 non-null  object\n",
      " 3   gender                    101766 non-null  object\n",
      " 4   age                       101766 non-null  object\n",
      " 5   weight                    101766 non-null  object\n",
      " 6   admission_type_id         101766 non-null  int64 \n",
      " 7   discharge_disposition_id  101766 non-null  int64 \n",
      " 8   admission_source_id       101766 non-null  int64 \n",
      " 9   time_in_hospital          101766 non-null  int64 \n",
      " 10  payer_code                101766 non-null  object\n",
      " 11  medical_specialty         101766 non-null  object\n",
      " 12  num_lab_procedures        101766 non-null  int64 \n",
      " 13  num_procedures            101766 non-null  int64 \n",
      " 14  num_medications           101766 non-null  int64 \n",
      " 15  number_outpatient         101766 non-null  int64 \n",
      " 16  number_emergency          101766 non-null  int64 \n",
      " 17  number_inpatient          101766 non-null  int64 \n",
      " 18  diag_1                    101766 non-null  object\n",
      " 19  diag_2                    101766 non-null  object\n",
      " 20  diag_3                    101766 non-null  object\n",
      " 21  number_diagnoses          101766 non-null  int64 \n",
      " 22  max_glu_serum             101766 non-null  object\n",
      " 23  A1Cresult                 101766 non-null  object\n",
      " 24  metformin                 101766 non-null  object\n",
      " 25  repaglinide               101766 non-null  object\n",
      " 26  nateglinide               101766 non-null  object\n",
      " 27  chlorpropamide            101766 non-null  object\n",
      " 28  glimepiride               101766 non-null  object\n",
      " 29  acetohexamide             101766 non-null  object\n",
      " 30  glipizide                 101766 non-null  object\n",
      " 31  glyburide                 101766 non-null  object\n",
      " 32  tolbutamide               101766 non-null  object\n",
      " 33  pioglitazone              101766 non-null  object\n",
      " 34  rosiglitazone             101766 non-null  object\n",
      " 35  acarbose                  101766 non-null  object\n",
      " 36  miglitol                  101766 non-null  object\n",
      " 37  troglitazone              101766 non-null  object\n",
      " 38  tolazamide                101766 non-null  object\n",
      " 39  examide                   101766 non-null  object\n",
      " 40  citoglipton               101766 non-null  object\n",
      " 41  insulin                   101766 non-null  object\n",
      " 42  glyburide-metformin       101766 non-null  object\n",
      " 43  glipizide-metformin       101766 non-null  object\n",
      " 44  glimepiride-pioglitazone  101766 non-null  object\n",
      " 45  metformin-rosiglitazone   101766 non-null  object\n",
      " 46  metformin-pioglitazone    101766 non-null  object\n",
      " 47  change                    101766 non-null  object\n",
      " 48  diabetesMed               101766 non-null  object\n",
      " 49  readmitted                101766 non-null  object\n",
      "dtypes: int64(13), object(37)\n",
      "memory usage: 38.8+ MB\n"
     ]
    },
    {
     "data": {
      "text/plain": [
       "number_emergency          33\n",
       "number_outpatient         39\n",
       "medical_specialty         73\n",
       "num_medications           75\n",
       "num_lab_procedures       118\n",
       "diag_1                   717\n",
       "diag_2                   749\n",
       "diag_3                   790\n",
       "patient_nbr            71518\n",
       "encounter_id          101766\n",
       "dtype: int64"
      ]
     },
     "execution_count": 5,
     "metadata": {},
     "output_type": "execute_result"
    }
   ],
   "source": [
    "#QUICK EXPLORATION\n",
    "df.info()\n",
    "df.isna().sum().sort_values(ascending=False).head(10) #to get first 10 with most missing values per feature\n",
    "df.nunique().sort_values().tail(10) #sort all values and get the least 10 to make sure its sorted"
   ]
  },
  {
   "cell_type": "code",
   "execution_count": 6,
   "id": "a5e72e5b",
   "metadata": {},
   "outputs": [
    {
     "data": {
      "text/plain": [
       "0    0.888401\n",
       "1    0.111599\n",
       "Name: y, dtype: float64"
      ]
     },
     "execution_count": 6,
     "metadata": {},
     "output_type": "execute_result"
    }
   ],
   "source": [
    "#BASIC CLEANING\n",
    "df.replace('?', np.nan)\n",
    "df = df.replace({'Unknown/Invalid': np.nan, 'None':np.nan}) \n",
    "#remove ids that cause data leakage\n",
    "drop_cols = ['encounter_id', 'patient_nbr'] #anonymize data\n",
    "df = df.drop(columns= drop_cols, errors='ignore')\n",
    "\n",
    "#target variables: <30 goes to 1, anything else to zero\n",
    "df['y'] = (df['readmitted'] == '<30').astype(int)\n",
    "df['y'].value_counts(normalize=True)\n",
    "\n",
    "\n"
   ]
  },
  {
   "cell_type": "code",
   "execution_count": 7,
   "id": "38fb494b",
   "metadata": {},
   "outputs": [
    {
     "data": {
      "image/png": "[encoded data removed]",
      "text/plain": [
       "<Figure size 432x288 with 1 Axes>"
      ]
     },
     "metadata": {
      "needs_background": "light"
     },
     "output_type": "display_data"
    }
   ],
   "source": [
    "#DISTRIBUTION OF CLASSES\n",
    "df['y'].value_counts().plot(kind='bar', color=['#a1d9ff','#ff9f9f'])\n",
    "plt.title('Readmission within 30 days')\n",
    "plt.show()\n"
   ]
  },
  {
   "cell_type": "code",
   "execution_count": 8,
   "id": "636b9575",
   "metadata": {},
   "outputs": [
    {
     "data": {
      "image/png": "[encoded data removed]",
      "text/plain": [
       "<Figure size 432x288 with 1 Axes>"
      ]
     },
     "metadata": {
      "needs_background": "light"
     },
     "output_type": "display_data"
    }
   ],
   "source": [
    "#AGE BUCKETS\n",
    "df['age'].value_counts().sort_index().plot(kind='bar', rot=45)\n",
    "plt.title('Age distribution')\n",
    "plt.show()"
   ]
  },
  {
   "cell_type": "code",
   "execution_count": 11,
   "id": "483232dc",
   "metadata": {},
   "outputs": [
    {
     "data": {
      "image/png": "[encoded data removed]",
      "text/plain": [
       "<Figure size 432x288 with 1 Axes>"
      ]
     },
     "metadata": {
      "needs_background": "light"
     },
     "output_type": "display_data"
    }
   ],
   "source": [
    "if 'A1Cresult' in df.columns:\n",
    "    sns.barplot(data=df, x='A1Cresult', y='y', estimator=np.mean, ci=None)\n",
    "    plt.title('Readmission rate by HbA1c result')\n",
    "    plt.ylabel('Proportion readmitted')\n",
    "    plt.show()\n"
   ]
  },
  {
   "cell_type": "code",
   "execution_count": 13,
   "id": "4d6f75ee",
   "metadata": {},
   "outputs": [],
   "source": [
    "#PREPARING FOR MODEL\n",
    "from sklearn.model_selection import train_test_split\n",
    "from sklearn.compose import ColumnTransformer\n",
    "from sklearn.preprocessing import OneHotEncoder\n",
    "from sklearn.impute import SimpleImputer\n",
    "from sklearn.pipeline import Pipeline\n",
    "from sklearn.linear_model import LogisticRegression\n",
    "from sklearn.metrics import roc_auc_score, average_precision_score\n",
    "\n",
    "#separating features x and target y\n",
    "X= df.drop(columns=['readmitted', 'y'])\n",
    "y=df['y']\n",
    "\n",
    "#identifying categorical and numerical columns\n",
    "cat_columns = [c for c in X.columns if X[c].dtype == 'object']\n",
    "num_columns = [c for c in X.columns if c not in cat_columns]\n",
    "\n",
    "#preprocessing steps\n",
    "numeric = Pipeline([\n",
    "    ('impute', SimpleImputer(strategy='median'))\n",
    "])\n",
    "\n",
    "categorical = Pipeline([\n",
    "    ('impute', SimpleImputer(strategy='most_frequent')),\n",
    "    ('onehot', OneHotEncoder(handle_unknown='ignore'))  # <- removed min_frequency\n",
    "])\n",
    "\n",
    "#combining into columntransfer\n",
    "pre = ColumnTransformer([\n",
    "    ('num', numeric, num_columns),\n",
    "    ('cat', categorical, cat_columns)\n",
    "])\n",
    "\n",
    "#train test data split\n",
    "X_train, X_test, y_train, y_test = train_test_split(\n",
    "    X, y, test_size=0.2, stratify=y, random_state=42\n",
    ")\n"
   ]
  },
  {
   "cell_type": "code",
   "execution_count": 14,
   "id": "ede5b3be",
   "metadata": {},
   "outputs": [
    {
     "name": "stderr",
     "output_type": "stream",
     "text": [
      "c:\\Users\\User\\anaconda3\\lib\\site-packages\\sklearn\\linear_model\\_logistic.py:763: ConvergenceWarning: lbfgs failed to converge (status=1):\n",
      "STOP: TOTAL NO. of ITERATIONS REACHED LIMIT.\n",
      "\n",
      "Increase the number of iterations (max_iter) or scale the data as shown in:\n",
      "    https://scikit-learn.org/stable/modules/preprocessing.html\n",
      "Please also refer to the documentation for alternative solver options:\n",
      "    https://scikit-learn.org/stable/modules/linear_model.html#logistic-regression\n",
      "  n_iter_i = _check_optimize_result(\n"
     ]
    },
    {
     "name": "stdout",
     "output_type": "stream",
     "text": [
      "Logistic ROC-AUC: 0.6558799408559187\n",
      "Logistic PR-AUC : 0.20787851489046533\n"
     ]
    }
   ],
   "source": [
    "#LOGISTIC REGRESSION\n",
    "logit = Pipeline([\n",
    "    ('pre', pre),\n",
    "    ('clf', LogisticRegression(max_iter=200, class_weight='balanced'))\n",
    "])\n",
    "\n",
    "logit.fit(X_train, y_train)\n",
    "p = logit.predict_proba(X_test)[:, 1]\n",
    "\n",
    "print('Logistic ROC-AUC:', roc_auc_score(y_test, p))\n",
    "print('Logistic PR-AUC :', average_precision_score(y_test, p))"
   ]
  },
  {
   "cell_type": "code",
   "execution_count": 15,
   "id": "0d6d1bb9",
   "metadata": {},
   "outputs": [
    {
     "name": "stdout",
     "output_type": "stream",
     "text": [
      "RF ROC-AUC: 0.670073848283076\n",
      "RF PR-AUC : 0.22164679773256574\n"
     ]
    }
   ],
   "source": [
    "#RANDOM FOREST COMPARISON\n",
    "from sklearn.ensemble import RandomForestClassifier\n",
    "\n",
    "rf = Pipeline([\n",
    "    ('pre', pre),\n",
    "    ('clf', RandomForestClassifier(\n",
    "        n_estimators=300,\n",
    "        random_state=42,\n",
    "        n_jobs=-1,\n",
    "        class_weight='balanced_subsample'\n",
    "    ))\n",
    "])\n",
    "\n",
    "rf.fit(X_train, y_train)\n",
    "p_rf = rf.predict_proba(X_test)[:, 1]\n",
    "\n",
    "print('RF ROC-AUC:', roc_auc_score(y_test, p_rf))\n",
    "print('RF PR-AUC :', average_precision_score(y_test, p_rf))"
   ]
  },
  {
   "cell_type": "code",
   "execution_count": 16,
   "id": "5a7d5967",
   "metadata": {},
   "outputs": [
    {
     "name": "stdout",
     "output_type": "stream",
     "text": [
      "\n",
      "Logistic @ threshold=0.3\n",
      "Confusion matrix:\n",
      " [[ 1603 16480]\n",
      " [   67  2204]]\n",
      "              precision    recall  f1-score   support\n",
      "\n",
      "           0      0.960     0.089     0.162     18083\n",
      "           1      0.118     0.970     0.210      2271\n",
      "\n",
      "    accuracy                          0.187     20354\n",
      "   macro avg      0.539     0.530     0.186     20354\n",
      "weighted avg      0.866     0.187     0.168     20354\n",
      "\n",
      "\n",
      "RandomForest @ threshold=0.3\n",
      "Confusion matrix:\n",
      " [[17993    90]\n",
      " [ 2177    94]]\n",
      "              precision    recall  f1-score   support\n",
      "\n",
      "           0      0.892     0.995     0.941     18083\n",
      "           1      0.511     0.041     0.077      2271\n",
      "\n",
      "    accuracy                          0.889     20354\n",
      "   macro avg      0.701     0.518     0.509     20354\n",
      "weighted avg      0.850     0.889     0.844     20354\n",
      "\n"
     ]
    }
   ],
   "source": [
    "#THRESHOLD METRICS CONFUSION + REPORT\n",
    "from sklearn.metrics import confusion_matrix, classification_report\n",
    "\n",
    "def report_at_threshold(name, probs, thr=0.30):\n",
    "    yhat = (probs >= thr).astype(int)\n",
    "    print(f'\\n{name} @ threshold={thr}')\n",
    "    print('Confusion matrix:\\n', confusion_matrix(y_test, yhat))\n",
    "    print(classification_report(y_test, yhat, digits=3))\n",
    "\n",
    "report_at_threshold('Logistic', p, thr=0.30)\n",
    "report_at_threshold('RandomForest', p_rf, thr=0.30)\n"
   ]
  },
  {
   "cell_type": "code",
   "execution_count": null,
   "id": "b906b4c8",
   "metadata": {},
   "outputs": [
    {
     "data": {
      "image/png": "[encoded data removed]",
      "text/plain": [
       "<Figure size 576x432 with 1 Axes>"
      ]
     },
     "metadata": {
      "needs_background": "light"
     },
     "output_type": "display_data"
    },
    {
     "data": {
      "text/html": [
       "<div>\n",
       "<style scoped>\n",
       "    .dataframe tbody tr th:only-of-type {\n",
       "        vertical-align: middle;\n",
       "    }\n",
       "\n",
       "    .dataframe tbody tr th {\n",
       "        vertical-align: top;\n",
       "    }\n",
       "\n",
       "    .dataframe thead th {\n",
       "        text-align: right;\n",
       "    }\n",
       "</style>\n",
       "<table border=\"1\" class=\"dataframe\">\n",
       "  <thead>\n",
       "    <tr style=\"text-align: right;\">\n",
       "      <th></th>\n",
       "      <th>feature</th>\n",
       "      <th>importance</th>\n",
       "    </tr>\n",
       "  </thead>\n",
       "  <tbody>\n",
       "    <tr>\n",
       "      <th>15</th>\n",
       "      <td>number_inpatient</td>\n",
       "      <td>0.018355</td>\n",
       "    </tr>\n",
       "    <tr>\n",
       "      <th>16</th>\n",
       "      <td>diag_1</td>\n",
       "      <td>0.005778</td>\n",
       "    </tr>\n",
       "    <tr>\n",
       "      <th>11</th>\n",
       "      <td>num_procedures</td>\n",
       "      <td>0.004029</td>\n",
       "    </tr>\n",
       "    <tr>\n",
       "      <th>14</th>\n",
       "      <td>number_emergency</td>\n",
       "      <td>0.003066</td>\n",
       "    </tr>\n",
       "    <tr>\n",
       "      <th>6</th>\n",
       "      <td>admission_source_id</td>\n",
       "      <td>0.002388</td>\n",
       "    </tr>\n",
       "    <tr>\n",
       "      <th>46</th>\n",
       "      <td>diabetesMed</td>\n",
       "      <td>0.001759</td>\n",
       "    </tr>\n",
       "    <tr>\n",
       "      <th>45</th>\n",
       "      <td>change</td>\n",
       "      <td>0.001572</td>\n",
       "    </tr>\n",
       "    <tr>\n",
       "      <th>39</th>\n",
       "      <td>insulin</td>\n",
       "      <td>0.001238</td>\n",
       "    </tr>\n",
       "    <tr>\n",
       "      <th>17</th>\n",
       "      <td>diag_2</td>\n",
       "      <td>0.000698</td>\n",
       "    </tr>\n",
       "    <tr>\n",
       "      <th>9</th>\n",
       "      <td>medical_specialty</td>\n",
       "      <td>0.000688</td>\n",
       "    </tr>\n",
       "  </tbody>\n",
       "</table>\n",
       "</div>"
      ],
      "text/plain": [
       "                feature  importance\n",
       "15     number_inpatient    0.018355\n",
       "16               diag_1    0.005778\n",
       "11       num_procedures    0.004029\n",
       "14     number_emergency    0.003066\n",
       "6   admission_source_id    0.002388\n",
       "46          diabetesMed    0.001759\n",
       "45               change    0.001572\n",
       "39              insulin    0.001238\n",
       "17               diag_2    0.000698\n",
       "9     medical_specialty    0.000688"
      ]
     },
     "execution_count": 20,
     "metadata": {},
     "output_type": "execute_result"
    }
   ],
   "source": [
    "# PERMUTATION IMPORTANCE (pipeline-level, raw features)\n",
    "from sklearn.inspection import permutation_importance\n",
    "import pandas as pd, matplotlib.pyplot as plt, seaborn as sns\n",
    "\n",
    "r = permutation_importance(logit, X_test, y_test, n_repeats=5, random_state=42)\n",
    "\n",
    "# The results correspond to the raw input columns\n",
    "imp = (pd.DataFrame({\n",
    "            'feature': X_test.columns,\n",
    "            'importance': r.importances_mean\n",
    "        })\n",
    "        .sort_values('importance', ascending=False)\n",
    "        .head(20)\n",
    ")\n",
    "\n",
    "plt.figure(figsize=(8,6))\n",
    "sns.barplot(data=imp, x='importance', y='feature', palette='viridis')\n",
    "plt.title('Top 20 Permutation Importances (Logistic, Raw Features)')\n",
    "plt.xlabel('Importance')\n",
    "plt.ylabel('')\n",
    "plt.tight_layout()\n",
    "plt.show()\n",
    "\n",
    "imp.head(10)\n"
   ]
  },
  {
   "cell_type": "code",
   "execution_count": 22,
   "id": "b8fc9204",
   "metadata": {},
   "outputs": [
    {
     "name": "stderr",
     "output_type": "stream",
     "text": [
      "c:\\Users\\User\\anaconda3\\lib\\site-packages\\sklearn\\linear_model\\_logistic.py:763: ConvergenceWarning: lbfgs failed to converge (status=1):\n",
      "STOP: TOTAL NO. of ITERATIONS REACHED LIMIT.\n",
      "\n",
      "Increase the number of iterations (max_iter) or scale the data as shown in:\n",
      "    https://scikit-learn.org/stable/modules/preprocessing.html\n",
      "Please also refer to the documentation for alternative solver options:\n",
      "    https://scikit-learn.org/stable/modules/linear_model.html#logistic-regression\n",
      "  n_iter_i = _check_optimize_result(\n",
      "c:\\Users\\User\\anaconda3\\lib\\site-packages\\sklearn\\linear_model\\_logistic.py:763: ConvergenceWarning: lbfgs failed to converge (status=1):\n",
      "STOP: TOTAL NO. of ITERATIONS REACHED LIMIT.\n",
      "\n",
      "Increase the number of iterations (max_iter) or scale the data as shown in:\n",
      "    https://scikit-learn.org/stable/modules/preprocessing.html\n",
      "Please also refer to the documentation for alternative solver options:\n",
      "    https://scikit-learn.org/stable/modules/linear_model.html#logistic-regression\n",
      "  n_iter_i = _check_optimize_result(\n",
      "c:\\Users\\User\\anaconda3\\lib\\site-packages\\sklearn\\linear_model\\_logistic.py:763: ConvergenceWarning: lbfgs failed to converge (status=1):\n",
      "STOP: TOTAL NO. of ITERATIONS REACHED LIMIT.\n",
      "\n",
      "Increase the number of iterations (max_iter) or scale the data as shown in:\n",
      "    https://scikit-learn.org/stable/modules/preprocessing.html\n",
      "Please also refer to the documentation for alternative solver options:\n",
      "    https://scikit-learn.org/stable/modules/linear_model.html#logistic-regression\n",
      "  n_iter_i = _check_optimize_result(\n",
      "c:\\Users\\User\\anaconda3\\lib\\site-packages\\sklearn\\linear_model\\_logistic.py:763: ConvergenceWarning: lbfgs failed to converge (status=1):\n",
      "STOP: TOTAL NO. of ITERATIONS REACHED LIMIT.\n",
      "\n",
      "Increase the number of iterations (max_iter) or scale the data as shown in:\n",
      "    https://scikit-learn.org/stable/modules/preprocessing.html\n",
      "Please also refer to the documentation for alternative solver options:\n",
      "    https://scikit-learn.org/stable/modules/linear_model.html#logistic-regression\n",
      "  n_iter_i = _check_optimize_result(\n"
     ]
    },
    {
     "name": "stdout",
     "output_type": "stream",
     "text": [
      "Calibrated ROC-AUC: 0.6559975671650364\n",
      "Calibrated PR-AUC : 0.208022744700629\n"
     ]
    },
    {
     "name": "stderr",
     "output_type": "stream",
     "text": [
      "c:\\Users\\User\\anaconda3\\lib\\site-packages\\sklearn\\linear_model\\_logistic.py:763: ConvergenceWarning: lbfgs failed to converge (status=1):\n",
      "STOP: TOTAL NO. of ITERATIONS REACHED LIMIT.\n",
      "\n",
      "Increase the number of iterations (max_iter) or scale the data as shown in:\n",
      "    https://scikit-learn.org/stable/modules/preprocessing.html\n",
      "Please also refer to the documentation for alternative solver options:\n",
      "    https://scikit-learn.org/stable/modules/linear_model.html#logistic-regression\n",
      "  n_iter_i = _check_optimize_result(\n"
     ]
    },
    {
     "data": {
      "image/png": "[encoded data removed]",
      "text/plain": [
       "<Figure size 432x360 with 1 Axes>"
      ]
     },
     "metadata": {
      "needs_background": "light"
     },
     "output_type": "display_data"
    }
   ],
   "source": [
    "from sklearn.calibration import CalibratedClassifierCV, calibration_curve\n",
    "import matplotlib.pyplot as plt\n",
    "\n",
    "#  transofrming X using the preprocessor\n",
    "Xt_train = logit.named_steps['pre'].fit_transform(X_train)\n",
    "Xt_test  = logit.named_steps['pre'].transform(X_test)\n",
    "\n",
    "#  accessing the trained logistic regression model\n",
    "clf = logit.named_steps['clf']\n",
    "\n",
    "# fitting a calibrated version (on numeric features)\n",
    "cal = CalibratedClassifierCV(base_estimator=clf, cv=5, method='isotonic')\n",
    "cal.fit(Xt_train, y_train)\n",
    "p_cal = cal.predict_proba(Xt_test)[:, 1]\n",
    "\n",
    "# evaluation and plotting\n",
    "print('Calibrated ROC-AUC:', roc_auc_score(y_test, p_cal))\n",
    "print('Calibrated PR-AUC :', average_precision_score(y_test, p_cal))\n",
    "\n",
    "prob_true, prob_pred = calibration_curve(y_test, p_cal, n_bins=10)\n",
    "\n",
    "plt.figure(figsize=(6,5))\n",
    "plt.plot(prob_pred, prob_true, marker='o')\n",
    "plt.plot([0,1],[0,1],'--', color='gray')\n",
    "plt.title('Calibration Curve (Logistic + Isotonic)')\n",
    "plt.xlabel('Predicted probability')\n",
    "plt.ylabel('Observed frequency')\n",
    "plt.grid(True, alpha=0.3)\n",
    "plt.tight_layout()\n",
    "plt.show()\n"
   ]
  },
  {
   "cell_type": "code",
   "execution_count": 24,
   "id": "293f20ff",
   "metadata": {},
   "outputs": [
    {
     "name": "stdout",
     "output_type": "stream",
     "text": [
      "\n",
      "=== Average Precision (PR-AUC) by gender (test set) ===\n",
      "gender = Female           n=10924  PR-AUC=0.214\n",
      "gender = Male             n= 9430  PR-AUC=0.202\n",
      "\n",
      "=== Average Precision (PR-AUC) by age (test set) ===\n",
      "age = [10-20)          n=  130  PR-AUC=0.165\n",
      "age = [20-30)          n=  324  PR-AUC=0.451\n",
      "age = [30-40)          n=  725  PR-AUC=0.244\n",
      "age = [40-50)          n= 1913  PR-AUC=0.255\n",
      "age = [50-60)          n= 3457  PR-AUC=0.211\n",
      "age = [60-70)          n= 4547  PR-AUC=0.205\n",
      "age = [70-80)          n= 5234  PR-AUC=0.198\n",
      "age = [80-90)          n= 3414  PR-AUC=0.178\n",
      "age = [90-100)         n=  576  PR-AUC=0.182\n",
      "\n",
      "=== Average Precision (PR-AUC) by race (test set) ===\n",
      "race = ?                n=  462  PR-AUC=0.164\n",
      "race = AfricanAmerican  n= 3866  PR-AUC=0.205\n",
      "race = Asian            n=  123  PR-AUC=0.118\n",
      "race = Caucasian        n=15223  PR-AUC=0.210\n",
      "race = Hispanic         n=  404  PR-AUC=0.341\n",
      "race = Other            n=  276  PR-AUC=0.181\n"
     ]
    }
   ],
   "source": [
    "from sklearn.metrics import average_precision_score\n",
    "\n",
    "def slice_ap(column, probs):\n",
    "    # ensuring we use matching indices between df_test and y_test\n",
    "    df_test = df.loc[X_test.index].copy()\n",
    "    df_test = df_test.reset_index(drop=True)\n",
    "    y_true = y_test.reset_index(drop=True)\n",
    "    probs = pd.Series(probs).reset_index(drop=True)\n",
    "\n",
    "    if column not in df_test.columns:\n",
    "        print(f\"⚠️ Column '{column}' not found, skipping.\")\n",
    "        return\n",
    "\n",
    "    print(f'\\n=== Average Precision (PR-AUC) by {column} (test set) ===')\n",
    "    for val, subset in df_test.groupby(column):\n",
    "        if len(subset) < 50:\n",
    "            continue\n",
    "        idx = subset.index\n",
    "        ap = average_precision_score(y_true.iloc[idx], probs.iloc[idx])\n",
    "        print(f'{column} = {val:15}  n={len(subset):5}  PR-AUC={ap:.3f}')\n",
    "\n",
    "# running fairness evaluation again\n",
    "slice_ap('gender', p_cal)\n",
    "slice_ap('age', p_cal)\n",
    "slice_ap('race', p_cal)\n"
   ]
  },
  {
   "cell_type": "markdown",
   "id": "09de021b",
   "metadata": {},
   "source": [
    "### ⚖️ Fairness Analysis Summary\n",
    "\n",
    "| Group | Subgroups Tested | PR-AUC Range | Observations |\n",
    "|-------|------------------|---------------|---------------|\n",
    "| **Gender** | Female / Male | 0.20 – 0.21 | Balanced performance, no strong bias detected |\n",
    "| **Age** | [10-100) (9 brackets) | 0.17 – 0.45 | Slightly higher precision in younger groups; expected due to smaller sample size |\n",
    "| **Race** | 6 groups | 0.12 – 0.34 | Broadly consistent; small groups (Asian, Hispanic, ?) show variability |\n",
    "\n",
    "**Takeaway:**  \n",
    "Model shows **no major systematic fairness concerns**; differences correspond mainly to data imbalance rather than discriminatory patterns.  \n",
    "Future work could re-sample under-represented racial categories or apply re-weighting to verify robustness.\n"
   ]
  }
 ],
 "metadata": {
  "kernelspec": {
   "display_name": "base",
   "language": "python",
   "name": "python3"
  },
  "language_info": {
   "codemirror_mode": {
    "name": "ipython",
    "version": 3
   },
   "file_extension": ".py",
   "mimetype": "text/x-python",
   "name": "python",
   "nbconvert_exporter": "python",
   "pygments_lexer": "ipython3",
   "version": "3.9.7"
  }
 },
 "nbformat": 4,
 "nbformat_minor": 5
}
